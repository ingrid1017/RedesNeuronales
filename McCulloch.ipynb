{
  "nbformat": 4,
  "nbformat_minor": 0,
  "metadata": {
    "colab": {
      "provenance": [],
      "authorship_tag": "ABX9TyNEbM8OnrKyZnwGoz1HebBz",
      "include_colab_link": true
    },
    "kernelspec": {
      "name": "python3",
      "display_name": "Python 3"
    },
    "language_info": {
      "name": "python"
    }
  },
  "cells": [
    {
      "cell_type": "markdown",
      "metadata": {
        "id": "view-in-github",
        "colab_type": "text"
      },
      "source": [
        "<a href=\"https://colab.research.google.com/github/ingrid1017/RedesNeuronales/blob/main/McCulloch.ipynb\" target=\"_parent\"><img src=\"https://colab.research.google.com/assets/colab-badge.svg\" alt=\"Open In Colab\"/></a>"
      ]
    },
    {
      "cell_type": "markdown",
      "source": [
        "**1 Ejercicio**"
      ],
      "metadata": {
        "id": "kOgHrrNM-eCj"
      }
    },
    {
      "cell_type": "code",
      "execution_count": 2,
      "metadata": {
        "colab": {
          "base_uri": "https://localhost:8080/"
        },
        "id": "OfmoT0uqsiq0",
        "outputId": "1134fd29-7d8e-4b51-94f3-142a4813f715"
      },
      "outputs": [
        {
          "output_type": "stream",
          "name": "stdout",
          "text": [
            "Suma ponderada (S): 1\n",
            "Salida (y): 0\n"
          ]
        }
      ],
      "source": [
        "#Paso 1: Definir las entradas,peso y umbral\n",
        "x1 =1\n",
        "x2 = 0\n",
        "\n",
        "w1 =1\n",
        "w2=1\n",
        "\n",
        "umbral=2\n",
        "\n",
        "#Paso 2:Calcular la suma ponderada\n",
        "S = (x1 * w1) + (x2 * w2)\n",
        "\n",
        "# Paso 3: Determinar la salida de la neurona\n",
        "if S >= umbral:\n",
        "  y=1\n",
        "\n",
        "else:\n",
        "  y=0\n",
        "\n",
        "#Mostrar el resultado\n",
        "print(f\"Suma ponderada (S): {S}\")\n",
        "print(f\"Salida (y): {y}\")"
      ]
    },
    {
      "cell_type": "markdown",
      "source": [
        "**2 Ejercicio**"
      ],
      "metadata": {
        "id": "jXACAiSY-MtW"
      }
    },
    {
      "cell_type": "code",
      "source": [
        "#Compuerta AND: se activa solo si ambas entradas son 1\n",
        "x1 =1\n",
        "x2 = 1\n",
        "\n",
        "w1 =1\n",
        "w2=1\n",
        "\n",
        "umbral=2 #Para que funcione como AND, necesitamos que S>=2\n",
        "S = (x1 * w1) + (x2 * w2)\n",
        "\n",
        "if S >= umbral:\n",
        "  y=1\n",
        "\n",
        "else:\n",
        "  y=0\n",
        "\n",
        "#Mostrar el resultado\n",
        "print(f\"Suma ponderada (S): {S}\")\n",
        "print(f\"Salida (y): {y}\")"
      ],
      "metadata": {
        "colab": {
          "base_uri": "https://localhost:8080/"
        },
        "id": "zb-RkPkTxMmd",
        "outputId": "0e95687d-8346-4a30-d41f-9b4250220604"
      },
      "execution_count": 3,
      "outputs": [
        {
          "output_type": "stream",
          "name": "stdout",
          "text": [
            "Suma ponderada (S): 2\n",
            "Salida (y): 1\n"
          ]
        }
      ]
    },
    {
      "cell_type": "markdown",
      "source": [
        "**3 Ejercicio**\n"
      ],
      "metadata": {
        "id": "S4qeYzbf0pAb"
      }
    },
    {
      "cell_type": "code",
      "source": [
        "import numpy as np"
      ],
      "metadata": {
        "id": "QZBIsGPSzfYl"
      },
      "execution_count": 4,
      "outputs": []
    },
    {
      "cell_type": "code",
      "source": [
        "# Entradas (x1, x2,x3)\n",
        "entradas= np.array([0.5, -0.2, 0.8])\n",
        "\n",
        "#Pesos correspondientes a cada entrada (w1,w2,w3)\n",
        "pesos = np.array([0.4,0.9,-0.3])\n",
        "\n",
        "#Bias (umbral)\n",
        "bias= 0.5"
      ],
      "metadata": {
        "id": "mfcC68pf3Sy8"
      },
      "execution_count": 6,
      "outputs": []
    },
    {
      "cell_type": "code",
      "source": [
        "# Definir la funcion de activacion sigmoide\n",
        "def sigmoid(x):\n",
        "  return 1 / (1+np.exp(-x))\n",
        "\n",
        "\n",
        "#Modelo de la meurona artificial\n",
        "def neurona_artificial(entradas,pesos,bias):\n",
        "\n",
        "  #Calcular la suma ponderada\n",
        "  z= np.dot(entradas,pesos) + bias\n",
        "\n",
        "  #Aplicar la funcion de activacion\n",
        "  salida=sigmoid(z)\n",
        "\n",
        "  return salida\n"
      ],
      "metadata": {
        "id": "kPFVxH8-0hel"
      },
      "execution_count": 7,
      "outputs": []
    },
    {
      "cell_type": "code",
      "source": [
        "# Calcular la salida de la neurona\n",
        "salida = neurona_artificial(entradas,pesos,bias)\n",
        "\n",
        "# Mostrar el resultado\n",
        "print(f\"La salida de la neurona es: {salida}\")"
      ],
      "metadata": {
        "colab": {
          "base_uri": "https://localhost:8080/"
        },
        "collapsed": true,
        "id": "waD5nrJH277A",
        "outputId": "9996255f-16db-4763-d071-f4719b44da3d"
      },
      "execution_count": 8,
      "outputs": [
        {
          "output_type": "stream",
          "name": "stdout",
          "text": [
            "La salida de la neurona es: 0.569546223939229\n"
          ]
        }
      ]
    },
    {
      "cell_type": "markdown",
      "source": [
        "**4 Ejercicio**"
      ],
      "metadata": {
        "id": "o4tIOCEU8ipv"
      }
    },
    {
      "cell_type": "code",
      "source": [
        "import numpy as np\n",
        "import matplotlib.pyplot as plt\n",
        "\n",
        "#simulacio de activacion neuronal\n",
        "def activacion_neuronal(entradas,pesos,umbral):\n",
        "  suma= np.dot(entradas,pesos) - umbral\n",
        "  return 1 / (1 + np.exp(-suma)) #funcion logistica\n",
        "\n",
        "entradas= np.array([0.5, -0.2, 0.8])\n",
        "pesos = np.array([0.4,0.9,-0.3])\n",
        "umbral = 0.5\n",
        "\n",
        "activacion = activacion_neuronal(entradas,pesos,umbral)\n",
        "print(\"Activación de la neurona:\", activacion)"
      ],
      "metadata": {
        "colab": {
          "base_uri": "https://localhost:8080/"
        },
        "id": "TNgtKcxQ8lAG",
        "outputId": "fe8442c0-0fcf-4e18-cbde-412e3c1b2d90"
      },
      "execution_count": 9,
      "outputs": [
        {
          "output_type": "stream",
          "name": "stdout",
          "text": [
            "Activación de la neurona: 0.32739298293223956\n"
          ]
        }
      ]
    }
  ]
}