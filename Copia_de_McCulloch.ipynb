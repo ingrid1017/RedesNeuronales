{
  "nbformat": 4,
  "nbformat_minor": 0,
  "metadata": {
    "colab": {
      "provenance": [],
      "authorship_tag": "ABX9TyNQWnwfJhYM0gKR3rgePw0z",
      "include_colab_link": true
    },
    "kernelspec": {
      "name": "python3",
      "display_name": "Python 3"
    },
    "language_info": {
      "name": "python"
    }
  },
  "cells": [
    {
      "cell_type": "markdown",
      "metadata": {
        "id": "view-in-github",
        "colab_type": "text"
      },
      "source": [
        "<a href=\"https://colab.research.google.com/github/ingrid1017/RedesNeuronales/blob/main/Copia_de_McCulloch.ipynb\" target=\"_parent\"><img src=\"https://colab.research.google.com/assets/colab-badge.svg\" alt=\"Open In Colab\"/></a>"
      ]
    },
    {
      "cell_type": "code",
      "execution_count": null,
      "metadata": {
        "colab": {
          "base_uri": "https://localhost:8080/"
        },
        "id": "OfmoT0uqsiq0",
        "outputId": "1134fd29-7d8e-4b51-94f3-142a4813f715"
      },
      "outputs": [
        {
          "output_type": "stream",
          "name": "stdout",
          "text": [
            "Suma ponderada (S): 1\n",
            "Salida (y): 0\n"
          ]
        }
      ],
      "source": [
        "#Paso 1: Definir las entradas,peso y umbral\n",
        "x1 =1\n",
        "x2 = 0\n",
        "\n",
        "w1 =1\n",
        "w2=1\n",
        "\n",
        "umbral=2\n",
        "\n",
        "#Paso 2:Calcular la suma ponderada\n",
        "S = (x1 * w1) + (x2 * w2)\n",
        "\n",
        "# Paso 3: Determinar la salida de la neurona\n",
        "if S >= umbral:\n",
        "  y=1\n",
        "\n",
        "else:\n",
        "  y=0\n",
        "\n",
        "#Mostrar el resultado\n",
        "print(f\"Suma ponderada (S): {S}\")\n",
        "print(f\"Salida (y): {y}\")"
      ]
    }
  ]
}